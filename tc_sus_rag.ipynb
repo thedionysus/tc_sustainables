{
 "cells": [
  {
   "cell_type": "code",
   "execution_count": 1,
   "metadata": {},
   "outputs": [],
   "source": [
    "import os\n",
    "import PyPDF2\n",
    "import openai\n",
    "import faiss\n",
    "from fpdf import FPDF\n",
    "import tiktoken\n",
    "from dotenv import load_dotenv\n",
    "import json\n",
    "from langchain_openai.embeddings.base import OpenAIEmbeddings\n",
    "import numpy as np\n",
    "import re\n",
    "import string\n",
    "from langchain.vectorstores import FAISS\n",
    "\n",
    "from langchain.chat_models import ChatOpenAI\n",
    "from langchain.schema import SystemMessage, HumanMessage\n",
    "import markdown\n",
    "import pdfkit"
   ]
  },
  {
   "cell_type": "code",
   "execution_count": 2,
   "metadata": {},
   "outputs": [
    {
     "data": {
      "text/plain": [
       "True"
      ]
     },
     "execution_count": 2,
     "metadata": {},
     "output_type": "execute_result"
    }
   ],
   "source": [
    "load_dotenv()"
   ]
  },
  {
   "cell_type": "code",
   "execution_count": 3,
   "metadata": {},
   "outputs": [],
   "source": [
    "def extract_text_from_pdfs(pdf_folder):\n",
    "    documents = []\n",
    "    for filename in os.listdir(pdf_folder):\n",
    "        if filename.endswith('.pdf'):\n",
    "            # Assume filename format: CompanyName_Year.pdf\n",
    "            pdf_name = os.path.splitext(filename)[0]  # Remove .pdf extension\n",
    "            parts = pdf_name.split('_')\n",
    "            if len(parts) >= 2:\n",
    "                company = '_'.join(parts[:-1])\n",
    "                year = parts[-1]\n",
    "            else:\n",
    "                company = pdf_name\n",
    "                year = 'Unknown'\n",
    "            pdf_path = os.path.join(pdf_folder, filename)\n",
    "            with open(pdf_path, 'rb') as f:\n",
    "                reader = PyPDF2.PdfReader(f)\n",
    "                text = ''\n",
    "                for page in reader.pages:\n",
    "                    text += page.extract_text()\n",
    "            # Store text with metadata\n",
    "            doc = {\n",
    "                'company': company,\n",
    "                'year': year,\n",
    "                'text': text\n",
    "            }\n",
    "            documents.append(doc)\n",
    "    return documents"
   ]
  },
  {
   "cell_type": "code",
   "execution_count": 4,
   "metadata": {},
   "outputs": [],
   "source": [
    "pdf_folder = 'data/sample_reports'\n",
    "documents = extract_text_from_pdfs(pdf_folder)"
   ]
  },
  {
   "cell_type": "code",
   "execution_count": 6,
   "metadata": {},
   "outputs": [],
   "source": [
    "def split_text_into_chunks(doc, max_tokens=500):\n",
    "    tokenizer = tiktoken.get_encoding(\"cl100k_base\")\n",
    "    tokens = tokenizer.encode(doc['text'])\n",
    "    chunks = []\n",
    "    for i in range(0, len(tokens), max_tokens):\n",
    "        chunk_tokens = tokens[i:i + max_tokens]\n",
    "        decoded_chunk = tokenizer.decode(chunk_tokens)\n",
    "        chunk = {\n",
    "            'company': doc['company'],\n",
    "            'year': doc['year'],\n",
    "            'text': decoded_chunk\n",
    "        }\n",
    "        chunks.append(chunk)\n",
    "    return chunks"
   ]
  },
  {
   "cell_type": "code",
   "execution_count": 7,
   "metadata": {},
   "outputs": [],
   "source": [
    "def clean_text(text):\n",
    "    # Remove special characters and extra whitespace\n",
    "    text = text.replace('\\n', ' ').replace('\\t', ' ')\n",
    "    text = re.sub(' +', ' ', text)\n",
    "    # Optionally remove punctuation\n",
    "    text = text.translate(str.maketrans('', '', string.punctuation))\n",
    "    # Convert to lowercase\n",
    "    text = text.lower()\n",
    "    return text.strip()"
   ]
  },
  {
   "cell_type": "code",
   "execution_count": 8,
   "metadata": {},
   "outputs": [],
   "source": [
    "all_chunks = []\n",
    "for doc in documents:\n",
    "    chunks = split_text_into_chunks(doc)\n",
    "    for chunk in chunks:\n",
    "        chunk['text'] = clean_text(chunk['text'])\n",
    "    all_chunks.extend(chunks)"
   ]
  },
  {
   "cell_type": "code",
   "execution_count": 9,
   "metadata": {},
   "outputs": [],
   "source": [
    "def save_chunks(chunks, filepath):\n",
    "    with open(filepath, 'w', encoding='utf-8') as f:\n",
    "        json.dump(chunks, f, ensure_ascii=False, indent=4)\n",
    "\n",
    "def load_chunks(filepath):\n",
    "    with open(filepath, 'r', encoding='utf-8') as f:\n",
    "        chunks = json.load(f)\n",
    "    return chunks"
   ]
  },
  {
   "cell_type": "code",
   "execution_count": 10,
   "metadata": {},
   "outputs": [],
   "source": [
    "def get_embeddings(chunks):\n",
    "    embeddings_model = OpenAIEmbeddings()  \n",
    "    texts = [chunk['text'] for chunk in chunks]\n",
    "    embeddings = embeddings_model.embed_documents(texts)\n",
    "    ids = []\n",
    "    for idx, chunk in enumerate(chunks):\n",
    "        ids.append(idx)\n",
    "        chunk['id'] = idx \n",
    "    return embeddings, ids, embeddings_model\n",
    "\n"
   ]
  },
  {
   "cell_type": "code",
   "execution_count": 11,
   "metadata": {},
   "outputs": [],
   "source": [
    "embeddings, ids, embeddings_model = get_embeddings(all_chunks)"
   ]
  },
  {
   "cell_type": "code",
   "execution_count": 12,
   "metadata": {},
   "outputs": [
    {
     "name": "stdout",
     "output_type": "stream",
     "text": [
      "Saved chunks to data/chunks.json\n"
     ]
    }
   ],
   "source": [
    "chunks_file = 'data/chunks.json'\n",
    "save_chunks(all_chunks, chunks_file)\n",
    "print(f\"Saved chunks to {chunks_file}\")"
   ]
  },
  {
   "cell_type": "code",
   "execution_count": 13,
   "metadata": {},
   "outputs": [],
   "source": [
    "def save_embeddings(embeddings, ids, embeddings_path, ids_path):\n",
    "    np.save(embeddings_path, embeddings)\n",
    "    np.save(ids_path, ids)\n",
    "\n",
    "def load_embeddings(embeddings_path, ids_path):\n",
    "    embeddings = np.load(embeddings_path)\n",
    "    ids = np.load(ids_path)\n",
    "    return embeddings, ids"
   ]
  },
  {
   "cell_type": "code",
   "execution_count": 14,
   "metadata": {},
   "outputs": [
    {
     "name": "stdout",
     "output_type": "stream",
     "text": [
      "Saved embeddings to data/embedings.npy and IDs to data/ids.npy\n"
     ]
    }
   ],
   "source": [
    "embeddings_file = 'data/embedings.npy'\n",
    "ids_file = 'data/ids.npy'\n",
    "\n",
    "save_embeddings(embeddings, ids, embeddings_file, ids_file)\n",
    "print(f\"Saved embeddings to {embeddings_file} and IDs to {ids_file}\")"
   ]
  },
  {
   "cell_type": "code",
   "execution_count": 15,
   "metadata": {},
   "outputs": [],
   "source": [
    "def build_faiss_index(embeddings, ids):\n",
    "    dimension = len(embeddings[0])\n",
    "    index = faiss.IndexIDMap(faiss.IndexFlatL2(dimension))\n",
    "    index.add_with_ids(np.array(embeddings).astype('float32'), np.array(ids))\n",
    "    return index"
   ]
  },
  {
   "cell_type": "code",
   "execution_count": 16,
   "metadata": {},
   "outputs": [
    {
     "name": "stdout",
     "output_type": "stream",
     "text": [
      "Building the FAISS index...\n"
     ]
    }
   ],
   "source": [
    "print(\"Building the FAISS index...\")\n",
    "index = build_faiss_index(embeddings, ids)\n"
   ]
  },
  {
   "cell_type": "code",
   "execution_count": 17,
   "metadata": {},
   "outputs": [],
   "source": [
    "def build_faiss_vectorstore(chunks, embeddings_model):\n",
    "    texts = [chunk['text'] for chunk in chunks]\n",
    "    metadatas = [{'company': chunk['company'], 'year': chunk['year'], 'id': chunk['id']} for chunk in chunks]\n",
    "    vector_store = FAISS.from_texts(texts, embeddings_model, metadatas=metadatas)\n",
    "    return vector_store"
   ]
  },
  {
   "cell_type": "code",
   "execution_count": 18,
   "metadata": {},
   "outputs": [],
   "source": [
    "def retrieve_relevant_chunks(prompt, vector_store, embeddings_model, company, year, k):\n",
    "    # Use metadata filtering\n",
    "    filter_criteria = {'company': company, 'year': year}\n",
    "    relevant_docs = vector_store.similarity_search(prompt, k=k, filter=filter_criteria)\n",
    "    relevant_chunks = [{'company': doc.metadata['company'],\n",
    "                        'year': doc.metadata['year'],\n",
    "                        'text': doc.page_content,\n",
    "                        'id': doc.metadata['id']} for doc in relevant_docs]\n",
    "    return relevant_chunks\n"
   ]
  },
  {
   "cell_type": "code",
   "execution_count": 19,
   "metadata": {},
   "outputs": [
    {
     "name": "stdout",
     "output_type": "stream",
     "text": [
      "Building the vector store with metadata...\n",
      "Saved vector store to data/vectorstore.pkl\n"
     ]
    }
   ],
   "source": [
    "vectorstore_file = 'data/vectorstore.pkl'\n",
    "\n",
    "print(\"Building the vector store with metadata...\")\n",
    "vector_store = build_faiss_vectorstore(all_chunks, embeddings_model)\n",
    "# Save the vector store\n",
    "vector_store.save_local(vectorstore_file)\n",
    "print(f\"Saved vector store to {vectorstore_file}\")"
   ]
  },
  {
   "cell_type": "code",
   "execution_count": 20,
   "metadata": {},
   "outputs": [],
   "source": [
    "all_chunks1 = load_chunks('data/chunks.json')\n",
    "embeddings1, ids1 =load_embeddings('data/embedings.npy', 'data/ids.npy')\n",
    "index = build_faiss_index(embeddings1, ids1)"
   ]
  },
  {
   "cell_type": "code",
   "execution_count": 134,
   "metadata": {},
   "outputs": [
    {
     "name": "stdout",
     "output_type": "stream",
     "text": [
      "Retrieving relevant chunks...\n"
     ]
    },
    {
     "data": {
      "text/plain": [
       "[{'company': 'Apple',\n",
       "  'year': '2021',\n",
       "  'text': 'we\\xa0can offer technologically innovative products and services while conserving and enhancing resources for future generations apple strives for continuous improvement in our environmental health and safety management systems and in the environmental quality of our products processes and services guiding principles meet or exceed all applicable environmental health and safety requirements we will evaluate our ehs performance by monitoring ongoing performance results and through periodic management reviews where laws and regulations do not provide adequate controls we will adopt our own standards to protect human health and the environment support and promote sound scientific principles and fiscally responsible public policy that enhance environmental quality health and safety advocate the adoption of prudent environmental health and safety principles and practices by our contractors vendors and suppliers communicate environmental health and safety policies and programs to apple employees and stakeholders design manage and operate our facilities to maximize safety promote energy and water efficiency and protect the environment strive to create products that are safe in their intended use conserve energy and resources and prevent pollution throughout the product life cycle including design manufacture use and endof life management ensure that all employees are aware of their role and responsibility to fulfill and sustain apple’s environmental health and safety management systems and policy luca maestri senior vice president and cfo january 2020 environmental health and safety policy statementappendix eenvironmental progress report 100 introduction climate change resources smarter chemistry appendixiso 14001 certificationappendix f apple operates manufacturing facilities in cork ireland we certify 100 percent of these facilities with iso 14001environmental progress report 101 introduction climate change resources smarter chemistry appendixenvironmental progress report 102 introduction climate change resources smarter chemistry appendixenvironmental progress report 103 introduction climate change resources smarter chemistry appendixreport notes about this report this report is published annually in april and focuses primarily on fiscal year activities this report addresses environmental impacts and activities at apple facilities corporate offices data centers and retail stores as well as the life cycle impacts of our products including in the manufacturing transportation use and endoflife phases to provide feedback on this report please contact environmentreportapplecom reporting year all',\n",
       "  'id': 373},\n",
       " {'company': 'Apple',\n",
       "  'year': '2021',\n",
       "  'text': 'covering fiscal year 2020environmental progress reportintroduction letter from lisa jackson 3 our environmental strategy 4 report highlights 5 our shared commitment 6 climate change goals and highlights 9 our approach 10 apple’s comprehensive carbon footprint 12 our carbon roadmap 13 lowcarbon design 15 energy efficiency 17 renewable electricity 20 direct emissions abatement 26 carbon removal 28 resources goals and highlights 31 our approach 32 materials 33 sourcing and efficiency 34 product environmental features 35 progress by material 37 packaging 40 product longevity 41 product endoflife 45 water stewardship 48 zero waste 51 smarter chemistry goals and highlights 55 our approach 56 mapping and engagement 57 assessment 59 innovation 61 appendix a apple’s environmental data 67 b supplier commitments 72 c facilities renewable energy supplement 73 d assurance and review statements 84 e environmental health and safety policy statement 100 f iso 14001 certification 101contents cover photo this north carolina solar facility is one of the many energy solutions utilized by apple’s suppliers to support their commitments to 100 percent renewable energy for\\xa0apple production environmental progress report 2 introduction climate change resources smarter chemistry appendixdeveloping solutions to global challenges is\\xa0never an easy journey and it isn’t one that can be undertaken alone in a year like no other apple has continued to work with a global network of colleagues companies and advocates to further our efforts to make our environmental work a force for good in people’s lives—and give the communities most impacted by climate change a seat at\\xa0the table as a result this has been a year of progress powered by collaboration as a company we moved ahead with greater urgency than ever before to create a stronger healthier future\\xa0for\\xa0our planet and her people in 2020 that meant real progress in our fight against climate change apple became carbon neutral for our worldwide operations and we committed to becoming carbon neutral by 2030 for our entire',\n",
       "  'id': 261},\n",
       " {'company': 'Apple',\n",
       "  'year': '2021',\n",
       "  'text': 'ed by apple  4audit of reported dataincluding a detailed review of a sample of data agains t source data  and 5review of apple information system s for collection aggregation analysis and internal verification and review of environmental dataenvironmental progress report 94 introduction climate change resources smarter chemistry appendix apex compan ies llc page 2 of 2 the work was planned a nd carried out to provide reasonable assuran ce for all indicators and we believe it provide s an appropriate basis for our conclusions our findings apex verified the following indicators for apple’s fiscal year 2020 reporting period september 29 2019 through se ptember 2 6 2020 parameter quantity units boundary protocol clean energy use 114 million mega watt hours  mmwh apple suppliers  apple internal prot ocol avoided ghg emissions 86 million me tric tons of carbon dioxide equival ent mmtco 2e apple suppliers  apple internal protocol operational capacity 4531 megawatts mwac apple suppliers  apple internal protocol our conclusion based on the ass urance process and procedures conducted  we conclude that  • the clean ene rgy us e avoided ghg emissions and op erational capa city assertions show n above ar e materially correct and are a fair representati on of the data and information and • apple has establi shed appropriate system s for the collection aggregation and analysis of releva nt environm ental information  and has implement ed underlying internal assurance practices that provide a reasonable degree of confidence that such information is complete and ac curate  statement of independence integri ty and competence apex has im plemen ted a co de of ethics across the business to maintain high ethical standards among staff in their day to day business activities we are particularly vigilant in the prevention of conflicts of interest no member of the a ssurance team has a business relati onship w ith apple  its directors or managers beyond that required of this assignment we have conducted this',\n",
       "  'id': 368},\n",
       " {'company': 'Apple',\n",
       "  'year': '2021',\n",
       "  'text': 'd and carried out to provide reasonable assurance for all indicators and we believe it pro vides an appropriate basis for our conclusions our findings apex verified the following indicators for apple’s fiscal year 2020 reporting period september 29 2019 through se ptember 2 6 2020 paramet er quantity units boundary protocol natural ga s consu mption 140 million therms worldwide occupied properties  apple internal protocol electricity consumption 2580 million kilowatt hours  mkwh worldwide occupied properties  apple internal proto col renewable energy 2580 million kilowatt hours  mkwh worldwide  invoiced quantities  self generated scope 1 ghg emissions 47430 metric tons of carbon dioxide equivalen t tco 2e worldwide occupied propert ies  wriwbcsd ghg protocol scope 2 ghg em issions location based 890189 tco 2e worldwide occupi ed properties  wriwbcsd ghg protocol scope 2 ghg emissions market based 0 tco 2e worldwide occupied properties  wri wbcsd ghg protocol scope 3 ghg emis sions – business travel 153000 tco 2e world wide occupied properties  wriwbcsd ghg protoco l value chain scope 3 scope 3 ghg emissions – employee commute 134000 tco 2e worldwide occupied properties  wriwbcsd ghg protocol value chain scope 3 water withdrawal 1287 million gallons worldwide o ccupied properties  apple internal protocol trash disposed in landfill 11715 metric tonnes worldwide occupied properties  apple internal protocol hazardous waste regulate d waste 1839 metric tonnes worldw ide occupied properties  apple internal protocol recycled material removal by recycling contractor',\n",
       "  'id': 362},\n",
       " {'company': 'Apple',\n",
       "  'year': '2021',\n",
       "  'text': 'findings in fy2020 and beginning of fy20 21 4 recent product lca studies have been reviewed successfully against iso 1404044 these lcas cover product segments iphone  macbook pro imac and apple watch  these recently reviewed lca studies cover products which represent in total 97 of the total scope 3 carbon footprint representatives of other product segments  ipad ipod mac pro macbook air home pod airport expr ess  air port extreme apple tv airpods and beats pr oducts  underwent no or only minor design changes compared to those which went through a full lca review in former years all reviewed lca studies up to now cover in total 745 of the total scope 3 carbon footprint environmental progress report 98 introduction climate change resources smarter chemistry appendix comprehensive carbon footprint letter of assurance client apple inc 4 all questions raised in the course of t he review were answered by apple and related evidence was provided where needed 4 conclusions apple’ s assessment approach is excellent in terms of granularity of the used calculation data a significant share of components is modelled with accurate primary data from apple’s suppliers  for all product lca calculations where exact data was missing  the principle of a worst  case approach has been followed and results have been calculated with rather conservative estimates the review has not found assumptio ns or calculation errors on the carbon footprint data level that indicate the scope 3 carbon footprint has been materially misstated the excellent analysis meets the principles of good scientific practice  berlin april 1 2021  karsten schischke   marina proske  fraunhofer izm fraunhof er izm dept environmental and dept environmental and reliability engineering reliability engineering environmental progress report 99 introduction climate change resources smarter chemistry appendixmission statement apple inc is committed to protecting the environment health and safety of our employees customers and the global communities where we operate we recognize that by integrating sound environmental health and safety management practices into all aspects of our business',\n",
       "  'id': 372},\n",
       " {'company': 'Apple',\n",
       "  'year': '2021',\n",
       "  'text': 'of more than 100 elcd datasets available at wwwlca2goeu product groups hard disk drives semiconductors printed circuit boards photovoltaics \\uf0a7 environmental lifecycle assessments following the meeup  meerp methodology in several ecodesign product group studies under the european ecodesign directive since 2007 external power supplies complex set top boxes machine tools welding equipment \\uf0a7 various environmental gate togate assessments in research projects since 2000 wafer bumping printed circuit board manufacturing further updated information at wwwlinkedincominkarsten schischke environmental progress report 87 introduction climate change resources smarter chemistry appendix independent assurance statement to the stakeholders of apple inc introduction and objectives of work apex co mpanies llc apex was e ngaged by apple inc apple to conduct an independent assurance of select environmental data reporte d in its 2020 environmental report the report  this assurance statement applies t o the related information included within the scope of work described below the intended users of the assurance statement are the stakeholders of apple  the overall aim of this process is to provid e assurance to apple ’s stakeholders on the accuracy reli ability and objectivity of subject matter included in the report  this information and its presentation in the report are the sole responsibility of the management of apple  apex was not involved in the collectio n of the information o r the drafting of the report  scope of work apple requested apex to include in its independent review the following subject matter  ▪ assurance of select environmental d ata and information include d in the report for the fiscal year 2020 reporting period september 29 201 9 through se ptember 2 6 2020 specifically  in accordance with apple’s definitions and world resources institute wriworld business council for sustainable development wbc sd greenhouse gas protocol  o energy  direc t million therms and indirect million kilowatt',\n",
       "  'id': 360}]"
      ]
     },
     "execution_count": 134,
     "metadata": {},
     "output_type": "execute_result"
    }
   ],
   "source": [
    "\n",
    "company = \"Apple\"\n",
    "year = \"2021\"\n",
    "prompt = f\"Generate an ESG report focusing on environmental factors of {company} for {year}.\"\n",
    "# Retrieve relevant chunks\n",
    "\n",
    "embeddings_model1 = OpenAIEmbeddings()\n",
    "print(\"Retrieving relevant chunks...\")\n",
    "relevant_chunks = retrieve_relevant_chunks(prompt, vector_store, embeddings_model, company, year, k=10)\n",
    "relevant_chunks"
   ]
  },
  {
   "cell_type": "code",
   "execution_count": 21,
   "metadata": {},
   "outputs": [],
   "source": [
    "section_descriptions = {\n",
    "    \"General Information\": \"Information about the company's name, legal form, country of incorporation, and financial year.\",\n",
    "    \"Scope of the Report\": \"Details about the boundaries of the report, including entities included and time period covered.\",\n",
    "    \"Governance Structure\": \"This section covers the company's governance structure, including its board of directors, management, and internal control systems.\",\n",
    "    \"Business Strategy\": \"This section describes the company's strategy, including how it aligns with sustainability objectives.\",\n",
    "    \"Sustainability Strategy\": \"This section describes the company's strategy towards becoming more sustainable and beneficial for its stakeholders, including environment and larger society as a whole\",\n",
    "    \"Business Model\": \"This section describes the company's business model, and how it affects environment and society at large.\",\n",
    "    \"Overall Environmental Performance\": \"This section covers the company's environmental impacts and performance, including its greenhouse gas emissions, water use, waste generation, and biodiversity conservation efforts.\",\n",
    "    \"Greenhouse Gas Emissions\": \"Details about its greenhouse gas emissions\",\n",
    "    \"Energy\": \"Details about its total energy consumption, energy intensity of its business model\",\n",
    "    \"Water and Marine Resources\": \"Details about the company's intensity of water usage and potential pollution\",\n",
    "    \"Biodiversity and Ecosystems\": \"Details about how the company affects biological environment and biodiveristy\",\n",
    "    \"Circular Economy\": \"Details about how the company integrates itself into the circular economy\",\n",
    "    \"Overall Social Performance\": \"This section covers the company's social impacts and performance, including its human rights record, labor practices, community engagement, and diversity and inclusion initiatives.\",\n",
    "    \"Workforce\": \"Details on total employee headcount, turnover rate, gender pay gap and diversity\",\n",
    "    \"Occupational Health and Safety\": \"Details on work-related injuries and fatalities, as well as Lost time injury frequency rate (LTIFR)\",\n",
    "    \"Training and Development\": \"Details on average hours of training per employee, as well as details on how regular performance reviews are\",\n",
    "    \"Human Rights\": \"Details about human rights violations the company and measures to prevent them\",\n",
    "    \"Overall Governance Performance\": \"This section covers the company's governance performance, including its risk management, stakeholder engagement, and internal control systems.\",\n",
    "    \"Business Conduct\": \"Details about whistleblowing mechanisms and anti-corruption and anti-bribery measures\",\n",
    "    \"Corporate Governance\": \"Details about board composition and diversity, as well as executive compensation linked to sustainability measures\",\n",
    "    \"Risk Management\": \"Details on sustainability risks and opportunities, as well as integration of sustainability factors into risk management process\",\n",
    "    \"ESG reporting due diligence\": \"This section covers the company's due diligence processes for identifying and addressing risks in its value chain.\",\n",
    "    \"Assurance\": \"This section describes the assurance procedures that the company has in place to verify the accuracy and completeness of its sustainability report.\"\n",
    "}"
   ]
  },
  {
   "cell_type": "code",
   "execution_count": 22,
   "metadata": {},
   "outputs": [],
   "source": [
    "def generate_report(prompt, context_chunks):\n",
    "    # Combine the text from the relevant chunks\n",
    "    context = \"\\n\\n\".join([chunk['text'] for chunk in context_chunks])\n",
    "    messages = [\n",
    "        SystemMessage(content=f\"You are an expert in generating ESG reports based on provided information.\\n You will have to create a report in Markdown format. Based on the data provided by the user, split the data into these main sections: {section_descriptions}. Please also include additional data available to you which is relevant to the context. If there is not data available for a specific section, please state that explicitly!\"),\n",
    "        HumanMessage(content=f\"{context}\\n\\nPlease generate an ESG report based on the above information. {prompt}\")\n",
    "    ]\n",
    "\n",
    "    chat = ChatOpenAI(\n",
    "    model_name='gpt-3.5-turbo',\n",
    "    temperature=0.2,\n",
    "    max_tokens=2000,\n",
    "    openai_api_key=os.getenv('OPENAI_API_KEY')  # Use environment variable for API key\n",
    "    )\n",
    "\n",
    "    response = chat(messages)\n",
    "    return response.content\n"
   ]
  },
  {
   "cell_type": "code",
   "execution_count": 23,
   "metadata": {},
   "outputs": [],
   "source": [
    "def generate_markdown(header, footer, content1):\n",
    "    \"\"\"Generates a Markdown document from given header, footer, and content strings.\n",
    "    Args:\n",
    "        header (str): The header text.\n",
    "        footer (str): The footer text.\n",
    "        content (str): The report content\n",
    "    Returns:\n",
    "        str: The generated Markdown content.\n",
    "    \"\"\"\n",
    "    markdown = f\"# {header}\\n\\n\"  # Add the header\n",
    "    # Add content for each page, separating them with page breaks (---)\n",
    "    for content in [content1]:\n",
    "        markdown += f\"{content}\\n\\n---\\n\\n\"\n",
    "    markdown += f\"\\n## {footer}\"  # Add the footer\n",
    "    return markdown"
   ]
  },
  {
   "cell_type": "code",
   "execution_count": 24,
   "metadata": {},
   "outputs": [],
   "source": [
    "reports = [\n",
    "    {\n",
    "        \"company\": \"Apple\",\n",
    "        \"year\": 2019\n",
    "    },\n",
    "    {\n",
    "        \"company\": \"Apple\",\n",
    "        \"year\": 2021\n",
    "    },\n",
    "    {\n",
    "        \"company\": \"Apple\",\n",
    "        \"year\": 2023\n",
    "    },\n",
    "    {\n",
    "        \"company\": \"Amazon\",\n",
    "        \"year\": 2019\n",
    "    },\n",
    "    {\n",
    "        \"company\": \"Amazon\",\n",
    "        \"year\": 2021\n",
    "    },\n",
    "    {\n",
    "        \"company\": \"Amazon\",\n",
    "        \"year\": 2023\n",
    "    },\n",
    "    {\n",
    "        \"company\": \"Google\",\n",
    "        \"year\": 2019\n",
    "    },\n",
    "    {\n",
    "        \"company\": \"Google\",\n",
    "        \"year\": 2021\n",
    "    },\n",
    "    {\n",
    "        \"company\": \"Google\",\n",
    "        \"year\": 2023\n",
    "    },\n",
    "    {\n",
    "        \"company\": \"BP\",\n",
    "        \"year\": 2019\n",
    "    },\n",
    "    {\n",
    "        \"company\": \"BP\",\n",
    "        \"year\": 2021\n",
    "    },\n",
    "    {\n",
    "        \"company\": \"BP\",\n",
    "        \"year\": 2023\n",
    "    }\n",
    "]"
   ]
  },
  {
   "cell_type": "code",
   "execution_count": 25,
   "metadata": {},
   "outputs": [
    {
     "name": "stderr",
     "output_type": "stream",
     "text": [
      "/var/folders/75/mtq1pc9n535g8mtnhnqc9gl80000gn/T/ipykernel_29082/3726767772.py:9: LangChainDeprecationWarning: The class `ChatOpenAI` was deprecated in LangChain 0.0.10 and will be removed in 1.0. An updated version of the class exists in the :class:`~langchain-openai package and should be used instead. To use it run `pip install -U :class:`~langchain-openai` and import as `from :class:`~langchain_openai import ChatOpenAI``.\n",
      "  chat = ChatOpenAI(\n",
      "/var/folders/75/mtq1pc9n535g8mtnhnqc9gl80000gn/T/ipykernel_29082/3726767772.py:16: LangChainDeprecationWarning: The method `BaseChatModel.__call__` was deprecated in langchain-core 0.1.7 and will be removed in 1.0. Use :meth:`~invoke` instead.\n",
      "  response = chat(messages)\n"
     ]
    }
   ],
   "source": [
    "for report in reports:\n",
    "    company = report['company']\n",
    "    year = report['year']\n",
    "\n",
    "    prompt = f\"Generate an ESG report focusing on environmental factors of {company} for {year}.\"\n",
    "\n",
    "    relevant_chunks = retrieve_relevant_chunks(prompt, vector_store, embeddings_model, company, year, k=100)\n",
    "    report = generate_report(prompt, relevant_chunks)\n",
    "    header = \"Regulated Reports\"\n",
    "    footer = \"Copyright © 2024\"\n",
    "    markdown_output = generate_markdown(header, footer, report)\n",
    "    #print(markdown_output)\n",
    "    with open(f\"data/final_reports/{company}_{year}.md\", \"w\") as file:\n",
    "        file.write(markdown_output) \n",
    "    "
   ]
  },
  {
   "cell_type": "code",
   "execution_count": 27,
   "metadata": {},
   "outputs": [],
   "source": [
    "for report in reports:\n",
    "    company = report['company']\n",
    "    year = report['year']\n",
    "\n",
    "    with open(f'data/final_reports/{company}_{year}.md', 'r') as md_file:\n",
    "        markdown_content = md_file.read()\n",
    "\n",
    "    html_content = markdown.markdown(markdown_content)\n",
    "\n",
    "    # Save the HTML content into a temporary file\n",
    "    with open('temp.html', 'w') as html_file:\n",
    "        html_file.write(html_content)\n",
    "\n",
    "    pdfkit.from_file('temp.html', f'./data/final_reports/{company}_{year}.pdf')\n"
   ]
  }
 ],
 "metadata": {
  "kernelspec": {
   "display_name": "aim_hackathon_oct24",
   "language": "python",
   "name": "python3"
  },
  "language_info": {
   "codemirror_mode": {
    "name": "ipython",
    "version": 3
   },
   "file_extension": ".py",
   "mimetype": "text/x-python",
   "name": "python",
   "nbconvert_exporter": "python",
   "pygments_lexer": "ipython3",
   "version": "3.10.15"
  },
  "orig_nbformat": 4,
  "vscode": {
   "interpreter": {
    "hash": "fd2ea15c75379efc094c1a2b6be08afde3930ea888dd6742d161ea11b9d1978d"
   }
  }
 },
 "nbformat": 4,
 "nbformat_minor": 2
}
